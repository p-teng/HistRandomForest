{
 "metadata": {
  "language_info": {
   "codemirror_mode": {
    "name": "ipython",
    "version": 3
   },
   "file_extension": ".py",
   "mimetype": "text/x-python",
   "name": "python",
   "nbconvert_exporter": "python",
   "pygments_lexer": "ipython3",
   "version": "3.9.1"
  },
  "orig_nbformat": 2,
  "kernelspec": {
   "name": "python391jvsc74a57bd0bf484d4bf112cad0a221a06b018b152b54ed032608633e9496eefff6daf0d9a4",
   "display_name": "Python 3.9.1 64-bit"
  }
 },
 "nbformat": 4,
 "nbformat_minor": 2,
 "cells": [
  {
   "cell_type": "code",
   "execution_count": 4,
   "metadata": {},
   "outputs": [
    {
     "output_type": "error",
     "ename": "ModuleNotFoundError",
     "evalue": "No module named 'numpy'",
     "traceback": [
      "\u001b[1;31m---------------------------------------------------------------------------\u001b[0m",
      "\u001b[1;31mModuleNotFoundError\u001b[0m                       Traceback (most recent call last)",
      "\u001b[1;32m<ipython-input-4-7b2428bd200d>\u001b[0m in \u001b[0;36m<module>\u001b[1;34m\u001b[0m\n\u001b[1;32m----> 1\u001b[1;33m \u001b[1;32mimport\u001b[0m \u001b[0mnumpy\u001b[0m \u001b[1;32mas\u001b[0m \u001b[0mnp\u001b[0m\u001b[1;33m\u001b[0m\u001b[1;33m\u001b[0m\u001b[0m\n\u001b[0m\u001b[0;32m      2\u001b[0m \u001b[1;32mimport\u001b[0m \u001b[0mpickle\u001b[0m\u001b[1;33m\u001b[0m\u001b[1;33m\u001b[0m\u001b[0m\n\u001b[0;32m      3\u001b[0m \u001b[1;32mimport\u001b[0m \u001b[0mos\u001b[0m\u001b[1;33m\u001b[0m\u001b[1;33m\u001b[0m\u001b[0m\n\u001b[0;32m      4\u001b[0m \u001b[1;32mimport\u001b[0m \u001b[0mmatplotlib\u001b[0m\u001b[1;33m.\u001b[0m\u001b[0mpyplot\u001b[0m \u001b[1;32mas\u001b[0m \u001b[0mplt\u001b[0m\u001b[1;33m\u001b[0m\u001b[1;33m\u001b[0m\u001b[0m\n\u001b[0;32m      5\u001b[0m \u001b[1;32mimport\u001b[0m \u001b[0mseaborn\u001b[0m \u001b[1;32mas\u001b[0m \u001b[0msns\u001b[0m\u001b[1;33m\u001b[0m\u001b[1;33m\u001b[0m\u001b[0m\n",
      "\u001b[1;31mModuleNotFoundError\u001b[0m: No module named 'numpy'"
     ]
    }
   ],
   "source": [
    "import numpy as np\n",
    "import pickle\n",
    "import os\n",
    "import matplotlib.pyplot as plt\n",
    "import seaborn as sns\n",
    "import pandas as pd\n",
    "import openml\n",
    "from scipy.stats import wilcoxon\n",
    "from sklearn.metrics import zero_one_loss\n",
    "from loess import loess, loess_fast\n",
    "%matplotlib inline\n",
    "\n",
    "sns.set_context(\"paper\", font_scale=1.5)"
   ]
  },
  {
   "cell_type": "code",
   "execution_count": 2,
   "metadata": {},
   "outputs": [],
   "source": [
    "def bin_data(y, n_bins):\n",
    "    \"\"\"\n",
    "    Partitions the data into ordered bins based on\n",
    "    the probabilities. Returns the binned indices.\n",
    "    \"\"\"\n",
    "    edges = np.linspace(0, 1, n_bins)\n",
    "    bin_idx = np.digitize(y, edges, right=True)\n",
    "    binned_idx = [np.where(bin_idx == i)[0] for i in range(n_bins)]\n",
    "    \n",
    "    return binned_idx\n",
    "    \n",
    "def bin_stats(y_true, y_proba, bin_idx):\n",
    "    # mean accuracy within each bin\n",
    "    bin_acc = [\n",
    "        np.equal(np.argmax(y_proba[idx], axis=1), y_true[idx]).mean() if len(idx) > 0 else 0\n",
    "        for idx in bin_idx\n",
    "    ]\n",
    "    # mean confidence of prediction within each bin\n",
    "    bin_conf = [\n",
    "        np.mean(np.max(y_proba[idx], axis=1)) if len(idx) > 0 else 0\n",
    "        for idx in bin_idx \n",
    "    ]\n",
    "    \n",
    "    return np.asarray(bin_acc), np.asarray(bin_conf)\n",
    "\n",
    "def ece(y_true, y_proba, n_bins=10):\n",
    "    bin_idx = bin_data(y_proba.max(axis=1), n_bins)\n",
    "    n = len(y_true)\n",
    "    \n",
    "    bin_acc, bin_conf = bin_stats(y_true, y_proba, bin_idx)\n",
    "    bin_sizes = [len(idx) for idx in bin_idx]\n",
    "    \n",
    "    ece = np.sum(np.abs(bin_acc - bin_conf) * np.asarray(bin_sizes)) / n\n",
    "    \n",
    "    return ece\n",
    "\n",
    "def mce(y_true, y_proba, n_bins=10):\n",
    "    bin_idx = bin_data(y_proba.max(axis=1), n_bins)\n",
    "    \n",
    "    bin_acc, bin_conf = bin_stats(y_true, y_proba, bin_idx)\n",
    "    mce = np.max(np.abs(bin_acc - bin_conf))\n",
    "    \n",
    "    return mce\n",
    "\n",
    "def brier_score_mvloss(y_true, y_proba):\n",
    "    if y_true.ndim == 1:\n",
    "        y_true = np.squeeze(np.eye(len(np.unique(y_true)))[y_true.reshape(-1)])\n",
    "    return np.mean(\n",
    "        np.mean((y_proba - y_true)**2, axis=1)\n",
    "    )\n",
    "\n",
    "\n",
    "def ici(y_true, y_proba):\n",
    "    y_hat = y_proba.max(axis=1)\n",
    "    x_loess, y_loess = loess_fast(y_hat, y_true, alpha=0.75, degree=1)\n",
    "    y_loess = y_loess.clip(0, 1)\n",
    "    x_loess = x_loess.clip(0, 1)\n",
    "    \n",
    "    return np.mean(np.abs(x_loess - y_loess))\n",
    "\n",
    "def E_quantile(y_true, y_proba, quantile):\n",
    "    y_hat = y_proba.max(axis=1)\n",
    "    x_loess, y_loess = loess_fast(y_hat, y_true, alpha=0.75, degree=1)\n",
    "    y_loess = y_loess.clip(0, 1)\n",
    "    x_loess = x_loess.clip(0, 1)\n",
    "    \n",
    "    return np.quantile(np.abs(x_loess - y_loess), q=quantile)\n",
    "\n",
    "E50 = lambda y_true, y_proba: E_quantile(y_true, y_proba, quantile=0.5)\n",
    "E90 = lambda y_true, y_proba: E_quantile(y_true, y_proba, quantile=0.9)"
   ]
  },
  {
   "cell_type": "code",
   "execution_count": 3,
   "metadata": {},
   "outputs": [],
   "source": [
    "clfs = ['BagDT', 'RF', 'HistRF']\n",
    "color_dict = {\n",
    "    'BagDT': '#e41a1c',\n",
    "    'RF': '#377eb8',\n",
    "    'HistRF': '#4daf4a',\n",
    "}\n",
    "tag = 'n_estimators=50'\n",
    "results_dir = 'results_cv/'"
   ]
  },
  {
   "cell_type": "code",
   "execution_count": null,
   "metadata": {},
   "outputs": [],
   "source": [
    "for file in os.listdir(results_dir)[::-1]:\n",
    "    with open(results_dir + file, 'rb') as f:\n",
    "        results_dict = pickle.load(f)\n",
    "    break"
   ]
  },
  {
   "cell_type": "code",
   "execution_count": null,
   "metadata": {},
   "outputs": [],
   "source": [
    "results_dict.keys()"
   ]
  },
  {
   "cell_type": "code",
   "execution_count": null,
   "metadata": {},
   "outputs": [],
   "source": [
    "\n",
    "scores = np.asarray([\n",
    "    [zero_one_loss(rep.argmax(1), results_dict['y'][test_idx]) for rep in fold]\n",
    "    for fold, test_idx in zip(results_dict['HistRF'], results_dict['test_indices'])\n",
    "])"
   ]
  },
  {
   "cell_type": "code",
   "execution_count": null,
   "metadata": {},
   "outputs": [],
   "source": [
    "df = pd.DataFrame(\n",
    "    scores, columns=results_dict['sample_sizes']\n",
    ").melt(\n",
    "    var_name='n',\n",
    "    value_name='01 loss',\n",
    ")\n",
    "sns.lineplot(\n",
    "    data=df, x='n', y='01 loss', label='HistRF', legend=True, alpha=0.8)"
   ]
  }
 ]
}